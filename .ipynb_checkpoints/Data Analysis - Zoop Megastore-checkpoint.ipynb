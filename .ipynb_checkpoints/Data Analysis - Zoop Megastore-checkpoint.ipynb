{
 "cells": [
  {
   "cell_type": "markdown",
   "metadata": {},
   "source": [
    "Este é um projeto pessoal desenvolvido e documentado por Vitor Conrado. Todos os dados são fictícios e foram obtidos na plataforma Alura, mais especificamente no curso denominado \"Análise de dados com Python\". Os dados se referem as vendas de produtos em um trmestre de um supermercado chamado \"zoop megastore\", a principal pergunta do projeto então é sobre como foi o desempenho das vendas nesse período."
   ]
  },
  {
   "cell_type": "markdown",
   "metadata": {
    "id": "DNyJGph17zvA"
   },
   "source": [
    "# Passo 1 - Acesso aos dados"
   ]
  },
  {
   "cell_type": "markdown",
   "metadata": {
    "id": "ero2D81jdtyf"
   },
   "source": [
    "![Alt text: Logo da Zoop](https://github.com/alura-cursos/python-analise-chatgpt-assistente/blob/main/Logos%20e%20paleta%20-%20ZOOP/Logo%20fundo%20colorido%20(2).png?raw=true)"
   ]
  },
  {
   "cell_type": "markdown",
   "metadata": {
    "id": "a4sIvRiz7nUl"
   },
   "source": [
    "#### Inicialmente, importei os dados de um link direto no Github. Os salvei em uma variável chamada \"url\" para facilitar a exploração dos mesmos mais a frente no projeto."
   ]
  },
  {
   "cell_type": "code",
   "execution_count": 21,
   "metadata": {
    "id": "a4sIvRiz7nUl"
   },
   "outputs": [],
   "source": [
    "url = 'https://github.com/alura-cursos/python-analise-chatgpt-assistente/raw/main/Dados/dados_vendas.json'"
   ]
  },
  {
   "cell_type": "markdown",
   "metadata": {},
   "source": [
    "#### Nessa análise dos dados irei utilizar duas bibliotecas Python para obter as informações: numpy e pandas. Portanto o segundo passo é justamente importar as mesmas ao projeto. (Por boa prática adicionamnos uma abreviação as bibliotecas através do código \"as abreviação da biblioteca\") "
   ]
  },
  {
   "cell_type": "code",
   "execution_count": 24,
   "metadata": {
    "id": "e1tD9zUvqqfF"
   },
   "outputs": [],
   "source": [
    "import numpy as np\n",
    "import pandas as pd"
   ]
  },
  {
   "cell_type": "markdown",
   "metadata": {},
   "source": [
    "#### Com as bibliotecas já importadas irei ler o arquivo JSON salvo na variável URL através do pandas. Para isso adicionei as informações em um DataFrame denominado de \"df\", e usei o comando \"pd\" para usar uma função da biblioteca pandas, seguido de .read_json(url) para que o arquivo de formato JSON denominado de url anteriormente seja lido.\n",
    "#### Para primeira visualização dos dados em formato de DataFrame usei a variável df que acabei de definir seguido do método .head () para que sejam exibidas as 5 primeiras linhas do DataFrame."
   ]
  },
  {
   "cell_type": "code",
   "execution_count": 27,
   "metadata": {
    "id": "yhsqoIF5qqbl"
   },
   "outputs": [],
   "source": [
    "df = pd.read_json(url)"
   ]
  },
  {
   "cell_type": "code",
   "execution_count": 28,
   "metadata": {},
   "outputs": [
    {
     "data": {
      "text/html": [
       "<div>\n",
       "<style scoped>\n",
       "    .dataframe tbody tr th:only-of-type {\n",
       "        vertical-align: middle;\n",
       "    }\n",
       "\n",
       "    .dataframe tbody tr th {\n",
       "        vertical-align: top;\n",
       "    }\n",
       "\n",
       "    .dataframe thead th {\n",
       "        text-align: right;\n",
       "    }\n",
       "</style>\n",
       "<table border=\"1\" class=\"dataframe\">\n",
       "  <thead>\n",
       "    <tr style=\"text-align: right;\">\n",
       "      <th></th>\n",
       "      <th>item_identificador</th>\n",
       "      <th>loja_identificador</th>\n",
       "      <th>vendas_totais</th>\n",
       "      <th>item</th>\n",
       "      <th>loja</th>\n",
       "    </tr>\n",
       "  </thead>\n",
       "  <tbody>\n",
       "    <tr>\n",
       "      <th>0</th>\n",
       "      <td>FDB08</td>\n",
       "      <td>OUT018</td>\n",
       "      <td>176503.58</td>\n",
       "      <td>{'item_peso': 6.055, 'item_conteudo_gordura': ...</td>\n",
       "      <td>{'loja_ano_estabelecimento': 2019, 'loja_taman...</td>\n",
       "    </tr>\n",
       "    <tr>\n",
       "      <th>1</th>\n",
       "      <td>DRQ35</td>\n",
       "      <td>OUT049</td>\n",
       "      <td>185758.20</td>\n",
       "      <td>{'item_peso': 9.3, 'item_conteudo_gordura': 'B...</td>\n",
       "      <td>{'loja_ano_estabelecimento': 2009, 'loja_taman...</td>\n",
       "    </tr>\n",
       "    <tr>\n",
       "      <th>2</th>\n",
       "      <td>FDD14</td>\n",
       "      <td>OUT018</td>\n",
       "      <td>165983.94</td>\n",
       "      <td>{'item_peso': 20.7, 'item_conteudo_gordura': '...</td>\n",
       "      <td>{'loja_ano_estabelecimento': 2019, 'loja_taman...</td>\n",
       "    </tr>\n",
       "    <tr>\n",
       "      <th>3</th>\n",
       "      <td>FDY37</td>\n",
       "      <td>OUT045</td>\n",
       "      <td>314923.40</td>\n",
       "      <td>{'item_peso': 17.0, 'item_conteudo_gordura': '...</td>\n",
       "      <td>{'loja_ano_estabelecimento': 2012, 'loja_taman...</td>\n",
       "    </tr>\n",
       "    <tr>\n",
       "      <th>4</th>\n",
       "      <td>FDY59</td>\n",
       "      <td>OUT018</td>\n",
       "      <td>64782.34</td>\n",
       "      <td>{'item_peso': 8.195, 'item_conteudo_gordura': ...</td>\n",
       "      <td>{'loja_ano_estabelecimento': 2019, 'loja_taman...</td>\n",
       "    </tr>\n",
       "  </tbody>\n",
       "</table>\n",
       "</div>"
      ],
      "text/plain": [
       "  item_identificador loja_identificador  vendas_totais  \\\n",
       "0              FDB08             OUT018      176503.58   \n",
       "1              DRQ35             OUT049      185758.20   \n",
       "2              FDD14             OUT018      165983.94   \n",
       "3              FDY37             OUT045      314923.40   \n",
       "4              FDY59             OUT018       64782.34   \n",
       "\n",
       "                                                item  \\\n",
       "0  {'item_peso': 6.055, 'item_conteudo_gordura': ...   \n",
       "1  {'item_peso': 9.3, 'item_conteudo_gordura': 'B...   \n",
       "2  {'item_peso': 20.7, 'item_conteudo_gordura': '...   \n",
       "3  {'item_peso': 17.0, 'item_conteudo_gordura': '...   \n",
       "4  {'item_peso': 8.195, 'item_conteudo_gordura': ...   \n",
       "\n",
       "                                                loja  \n",
       "0  {'loja_ano_estabelecimento': 2019, 'loja_taman...  \n",
       "1  {'loja_ano_estabelecimento': 2009, 'loja_taman...  \n",
       "2  {'loja_ano_estabelecimento': 2019, 'loja_taman...  \n",
       "3  {'loja_ano_estabelecimento': 2012, 'loja_taman...  \n",
       "4  {'loja_ano_estabelecimento': 2019, 'loja_taman...  "
      ]
     },
     "execution_count": 28,
     "metadata": {},
     "output_type": "execute_result"
    }
   ],
   "source": [
    "df.head()"
   ]
  },
  {
   "cell_type": "markdown",
   "metadata": {
    "id": "83D4d29m-XUt"
   },
   "source": [
    "#### Após a primera visualização me deparei com o primeiro desafio com relação aos dados. Se observarmos atentamente as colunas \"item\" e \"loja\" percebemos que contêm dicionários aninhados dentro de cada uma das linhas, e como dicionários são baseados em chave e valor, essas informações aninhadas seriam melhor aproveitadas casos se tornassem colunas independentes. \n",
    "\n",
    "#### Para que esse problema fosse sanado utilizei pd.json_normalize para que os dados fossem convertidos em colunas. Como os dados estão em formatos de dados, com isso as chaves se tornam as colunas e os valores se tornam suas linhas correspondentes. Após salvar essas novas expanções concatenei as informações no DataFrame com pd.concat, e exclui as colunas que estavam aninhadas."
   ]
  },
  {
   "cell_type": "code",
   "execution_count": 33,
   "metadata": {
    "id": "yv3VwgdtqpGC"
   },
   "outputs": [
    {
     "data": {
      "text/html": [
       "<div>\n",
       "<style scoped>\n",
       "    .dataframe tbody tr th:only-of-type {\n",
       "        vertical-align: middle;\n",
       "    }\n",
       "\n",
       "    .dataframe tbody tr th {\n",
       "        vertical-align: top;\n",
       "    }\n",
       "\n",
       "    .dataframe thead th {\n",
       "        text-align: right;\n",
       "    }\n",
       "</style>\n",
       "<table border=\"1\" class=\"dataframe\">\n",
       "  <thead>\n",
       "    <tr style=\"text-align: right;\">\n",
       "      <th></th>\n",
       "      <th>item_identificador</th>\n",
       "      <th>loja_identificador</th>\n",
       "      <th>vendas_totais</th>\n",
       "      <th>item_peso</th>\n",
       "      <th>item_conteudo_gordura</th>\n",
       "      <th>item_visibilidade</th>\n",
       "      <th>item_tipo</th>\n",
       "      <th>item_preco</th>\n",
       "      <th>item_quantidade_venda</th>\n",
       "      <th>loja_ano_estabelecimento</th>\n",
       "      <th>loja_tamanho</th>\n",
       "      <th>loja_tipo_localizacao</th>\n",
       "      <th>loja_tipo</th>\n",
       "    </tr>\n",
       "  </thead>\n",
       "  <tbody>\n",
       "    <tr>\n",
       "      <th>0</th>\n",
       "      <td>FDB08</td>\n",
       "      <td>OUT018</td>\n",
       "      <td>176503.58</td>\n",
       "      <td>6.055</td>\n",
       "      <td>Baixo Teor de Gordura</td>\n",
       "      <td>0.031230</td>\n",
       "      <td>Frutas e Vegetais</td>\n",
       "      <td>160.36</td>\n",
       "      <td>None</td>\n",
       "      <td>2019</td>\n",
       "      <td>Médio</td>\n",
       "      <td>Nível 3</td>\n",
       "      <td>Supermercado Tipo 2</td>\n",
       "    </tr>\n",
       "    <tr>\n",
       "      <th>1</th>\n",
       "      <td>DRQ35</td>\n",
       "      <td>OUT049</td>\n",
       "      <td>185758.20</td>\n",
       "      <td>9.300</td>\n",
       "      <td>Baixo Teor de Gordura</td>\n",
       "      <td>0.042357</td>\n",
       "      <td>Bebidas Alcoólicas</td>\n",
       "      <td>123.24</td>\n",
       "      <td>None</td>\n",
       "      <td>2009</td>\n",
       "      <td>Médio</td>\n",
       "      <td>Nível 1</td>\n",
       "      <td>Supermercado Tipo 1</td>\n",
       "    </tr>\n",
       "    <tr>\n",
       "      <th>2</th>\n",
       "      <td>FDD14</td>\n",
       "      <td>OUT018</td>\n",
       "      <td>165983.94</td>\n",
       "      <td>20.700</td>\n",
       "      <td>Baixo Teor de Gordura</td>\n",
       "      <td>0.170500</td>\n",
       "      <td>Enlatados</td>\n",
       "      <td>184.13</td>\n",
       "      <td>None</td>\n",
       "      <td>2019</td>\n",
       "      <td>Médio</td>\n",
       "      <td>Nível 3</td>\n",
       "      <td>Supermercado Tipo 2</td>\n",
       "    </tr>\n",
       "    <tr>\n",
       "      <th>3</th>\n",
       "      <td>FDY37</td>\n",
       "      <td>OUT045</td>\n",
       "      <td>314923.40</td>\n",
       "      <td>17.000</td>\n",
       "      <td>Regular</td>\n",
       "      <td>0.026623</td>\n",
       "      <td>Enlatados</td>\n",
       "      <td>144.25</td>\n",
       "      <td>None</td>\n",
       "      <td>2012</td>\n",
       "      <td>None</td>\n",
       "      <td>Nível 2</td>\n",
       "      <td>Supermercado Tipo 1</td>\n",
       "    </tr>\n",
       "    <tr>\n",
       "      <th>4</th>\n",
       "      <td>FDY59</td>\n",
       "      <td>OUT018</td>\n",
       "      <td>64782.34</td>\n",
       "      <td>8.195</td>\n",
       "      <td>Baixo Teor de Gordura</td>\n",
       "      <td>0.000000</td>\n",
       "      <td>Confeitaria</td>\n",
       "      <td>93.15</td>\n",
       "      <td>None</td>\n",
       "      <td>2019</td>\n",
       "      <td>Médio</td>\n",
       "      <td>Nível 3</td>\n",
       "      <td>Supermercado Tipo 2</td>\n",
       "    </tr>\n",
       "  </tbody>\n",
       "</table>\n",
       "</div>"
      ],
      "text/plain": [
       "  item_identificador loja_identificador  vendas_totais  item_peso  \\\n",
       "0              FDB08             OUT018      176503.58      6.055   \n",
       "1              DRQ35             OUT049      185758.20      9.300   \n",
       "2              FDD14             OUT018      165983.94     20.700   \n",
       "3              FDY37             OUT045      314923.40     17.000   \n",
       "4              FDY59             OUT018       64782.34      8.195   \n",
       "\n",
       "   item_conteudo_gordura  item_visibilidade           item_tipo  item_preco  \\\n",
       "0  Baixo Teor de Gordura           0.031230   Frutas e Vegetais      160.36   \n",
       "1  Baixo Teor de Gordura           0.042357  Bebidas Alcoólicas      123.24   \n",
       "2  Baixo Teor de Gordura           0.170500           Enlatados      184.13   \n",
       "3                Regular           0.026623           Enlatados      144.25   \n",
       "4  Baixo Teor de Gordura           0.000000         Confeitaria       93.15   \n",
       "\n",
       "  item_quantidade_venda  loja_ano_estabelecimento loja_tamanho  \\\n",
       "0                  None                      2019        Médio   \n",
       "1                  None                      2009        Médio   \n",
       "2                  None                      2019        Médio   \n",
       "3                  None                      2012         None   \n",
       "4                  None                      2019        Médio   \n",
       "\n",
       "  loja_tipo_localizacao            loja_tipo  \n",
       "0               Nível 3  Supermercado Tipo 2  \n",
       "1               Nível 1  Supermercado Tipo 1  \n",
       "2               Nível 3  Supermercado Tipo 2  \n",
       "3               Nível 2  Supermercado Tipo 1  \n",
       "4               Nível 3  Supermercado Tipo 2  "
      ]
     },
     "execution_count": 33,
     "metadata": {},
     "output_type": "execute_result"
    }
   ],
   "source": [
    "# Expanção da coluna 'item'\n",
    "item_df = pd.json_normalize(df['item'])\n",
    "\n",
    "# Expanção da coluna 'loja'\n",
    "loja_df = pd.json_normalize(df['loja'])\n",
    "\n",
    "# Concatenação dos DataFrames e exclusão das colunas que estavam aninhadas 'item' e 'loja'\n",
    "df = pd.concat([df.drop(columns=['item', 'loja']), item_df, loja_df], axis=1) # axis=1 é usado para que as colunas sejam concatenadas de maneira horizontal\n",
    "df.head()"
   ]
  },
  {
   "cell_type": "markdown",
   "metadata": {
    "id": "W4Lf2C57fuAl"
   },
   "source": [
    "# Passo 2 - Exploração dos dados"
   ]
  },
  {
   "cell_type": "markdown",
   "metadata": {
    "id": "p8njjUdbfvyQ"
   },
   "source": [
    "#### Após o passo 1, o DataFrame ficou dessa maneira:"
   ]
  },
  {
   "cell_type": "code",
   "execution_count": 41,
   "metadata": {
    "id": "hJ8C-degqiPf"
   },
   "outputs": [
    {
     "data": {
      "text/html": [
       "<div>\n",
       "<style scoped>\n",
       "    .dataframe tbody tr th:only-of-type {\n",
       "        vertical-align: middle;\n",
       "    }\n",
       "\n",
       "    .dataframe tbody tr th {\n",
       "        vertical-align: top;\n",
       "    }\n",
       "\n",
       "    .dataframe thead th {\n",
       "        text-align: right;\n",
       "    }\n",
       "</style>\n",
       "<table border=\"1\" class=\"dataframe\">\n",
       "  <thead>\n",
       "    <tr style=\"text-align: right;\">\n",
       "      <th></th>\n",
       "      <th>item_identificador</th>\n",
       "      <th>loja_identificador</th>\n",
       "      <th>vendas_totais</th>\n",
       "      <th>item_peso</th>\n",
       "      <th>item_conteudo_gordura</th>\n",
       "      <th>item_visibilidade</th>\n",
       "      <th>item_tipo</th>\n",
       "      <th>item_preco</th>\n",
       "      <th>item_quantidade_venda</th>\n",
       "      <th>loja_ano_estabelecimento</th>\n",
       "      <th>loja_tamanho</th>\n",
       "      <th>loja_tipo_localizacao</th>\n",
       "      <th>loja_tipo</th>\n",
       "    </tr>\n",
       "  </thead>\n",
       "  <tbody>\n",
       "    <tr>\n",
       "      <th>0</th>\n",
       "      <td>FDB08</td>\n",
       "      <td>OUT018</td>\n",
       "      <td>176503.58</td>\n",
       "      <td>6.055</td>\n",
       "      <td>Baixo Teor de Gordura</td>\n",
       "      <td>0.031230</td>\n",
       "      <td>Frutas e Vegetais</td>\n",
       "      <td>160.36</td>\n",
       "      <td>None</td>\n",
       "      <td>2019</td>\n",
       "      <td>Médio</td>\n",
       "      <td>Nível 3</td>\n",
       "      <td>Supermercado Tipo 2</td>\n",
       "    </tr>\n",
       "    <tr>\n",
       "      <th>1</th>\n",
       "      <td>DRQ35</td>\n",
       "      <td>OUT049</td>\n",
       "      <td>185758.20</td>\n",
       "      <td>9.300</td>\n",
       "      <td>Baixo Teor de Gordura</td>\n",
       "      <td>0.042357</td>\n",
       "      <td>Bebidas Alcoólicas</td>\n",
       "      <td>123.24</td>\n",
       "      <td>None</td>\n",
       "      <td>2009</td>\n",
       "      <td>Médio</td>\n",
       "      <td>Nível 1</td>\n",
       "      <td>Supermercado Tipo 1</td>\n",
       "    </tr>\n",
       "    <tr>\n",
       "      <th>2</th>\n",
       "      <td>FDD14</td>\n",
       "      <td>OUT018</td>\n",
       "      <td>165983.94</td>\n",
       "      <td>20.700</td>\n",
       "      <td>Baixo Teor de Gordura</td>\n",
       "      <td>0.170500</td>\n",
       "      <td>Enlatados</td>\n",
       "      <td>184.13</td>\n",
       "      <td>None</td>\n",
       "      <td>2019</td>\n",
       "      <td>Médio</td>\n",
       "      <td>Nível 3</td>\n",
       "      <td>Supermercado Tipo 2</td>\n",
       "    </tr>\n",
       "    <tr>\n",
       "      <th>3</th>\n",
       "      <td>FDY37</td>\n",
       "      <td>OUT045</td>\n",
       "      <td>314923.40</td>\n",
       "      <td>17.000</td>\n",
       "      <td>Regular</td>\n",
       "      <td>0.026623</td>\n",
       "      <td>Enlatados</td>\n",
       "      <td>144.25</td>\n",
       "      <td>None</td>\n",
       "      <td>2012</td>\n",
       "      <td>None</td>\n",
       "      <td>Nível 2</td>\n",
       "      <td>Supermercado Tipo 1</td>\n",
       "    </tr>\n",
       "    <tr>\n",
       "      <th>4</th>\n",
       "      <td>FDY59</td>\n",
       "      <td>OUT018</td>\n",
       "      <td>64782.34</td>\n",
       "      <td>8.195</td>\n",
       "      <td>Baixo Teor de Gordura</td>\n",
       "      <td>0.000000</td>\n",
       "      <td>Confeitaria</td>\n",
       "      <td>93.15</td>\n",
       "      <td>None</td>\n",
       "      <td>2019</td>\n",
       "      <td>Médio</td>\n",
       "      <td>Nível 3</td>\n",
       "      <td>Supermercado Tipo 2</td>\n",
       "    </tr>\n",
       "  </tbody>\n",
       "</table>\n",
       "</div>"
      ],
      "text/plain": [
       "  item_identificador loja_identificador  vendas_totais  item_peso  \\\n",
       "0              FDB08             OUT018      176503.58      6.055   \n",
       "1              DRQ35             OUT049      185758.20      9.300   \n",
       "2              FDD14             OUT018      165983.94     20.700   \n",
       "3              FDY37             OUT045      314923.40     17.000   \n",
       "4              FDY59             OUT018       64782.34      8.195   \n",
       "\n",
       "   item_conteudo_gordura  item_visibilidade           item_tipo  item_preco  \\\n",
       "0  Baixo Teor de Gordura           0.031230   Frutas e Vegetais      160.36   \n",
       "1  Baixo Teor de Gordura           0.042357  Bebidas Alcoólicas      123.24   \n",
       "2  Baixo Teor de Gordura           0.170500           Enlatados      184.13   \n",
       "3                Regular           0.026623           Enlatados      144.25   \n",
       "4  Baixo Teor de Gordura           0.000000         Confeitaria       93.15   \n",
       "\n",
       "  item_quantidade_venda  loja_ano_estabelecimento loja_tamanho  \\\n",
       "0                  None                      2019        Médio   \n",
       "1                  None                      2009        Médio   \n",
       "2                  None                      2019        Médio   \n",
       "3                  None                      2012         None   \n",
       "4                  None                      2019        Médio   \n",
       "\n",
       "  loja_tipo_localizacao            loja_tipo  \n",
       "0               Nível 3  Supermercado Tipo 2  \n",
       "1               Nível 1  Supermercado Tipo 1  \n",
       "2               Nível 3  Supermercado Tipo 2  \n",
       "3               Nível 2  Supermercado Tipo 1  \n",
       "4               Nível 3  Supermercado Tipo 2  "
      ]
     },
     "execution_count": 41,
     "metadata": {},
     "output_type": "execute_result"
    }
   ],
   "source": [
    "df.head()"
   ]
  },
  {
   "cell_type": "code",
   "execution_count": 47,
   "metadata": {
    "id": "vQe3V5TRqh-v"
   },
   "outputs": [
    {
     "name": "stdout",
     "output_type": "stream",
     "text": [
      "<class 'pandas.core.frame.DataFrame'>\n",
      "RangeIndex: 8550 entries, 0 to 8549\n",
      "Data columns (total 13 columns):\n",
      " #   Column                    Non-Null Count  Dtype  \n",
      "---  ------                    --------------  -----  \n",
      " 0   item_identificador        8550 non-null   object \n",
      " 1   loja_identificador        8550 non-null   object \n",
      " 2   vendas_totais             8550 non-null   float64\n",
      " 3   item_peso                 7081 non-null   float64\n",
      " 4   item_conteudo_gordura     8550 non-null   object \n",
      " 5   item_visibilidade         8550 non-null   float64\n",
      " 6   item_tipo                 8550 non-null   object \n",
      " 7   item_preco                8550 non-null   float64\n",
      " 8   item_quantidade_venda     0 non-null      object \n",
      " 9   loja_ano_estabelecimento  8550 non-null   int64  \n",
      " 10  loja_tamanho              6133 non-null   object \n",
      " 11  loja_tipo_localizacao     8550 non-null   object \n",
      " 12  loja_tipo                 8550 non-null   object \n",
      "dtypes: float64(4), int64(1), object(8)\n",
      "memory usage: 868.5+ KB\n"
     ]
    }
   ],
   "source": [
    "#### Usando .info() para obter informações gerais sobre o DataFrame\n",
    "df.info()"
   ]
  },
  {
   "cell_type": "code",
   "execution_count": 49,
   "metadata": {
    "id": "0Mvw1yhwqh2Y"
   },
   "outputs": [
    {
     "data": {
      "text/html": [
       "<div>\n",
       "<style scoped>\n",
       "    .dataframe tbody tr th:only-of-type {\n",
       "        vertical-align: middle;\n",
       "    }\n",
       "\n",
       "    .dataframe tbody tr th {\n",
       "        vertical-align: top;\n",
       "    }\n",
       "\n",
       "    .dataframe thead th {\n",
       "        text-align: right;\n",
       "    }\n",
       "</style>\n",
       "<table border=\"1\" class=\"dataframe\">\n",
       "  <thead>\n",
       "    <tr style=\"text-align: right;\">\n",
       "      <th></th>\n",
       "      <th>vendas_totais</th>\n",
       "      <th>item_peso</th>\n",
       "      <th>item_visibilidade</th>\n",
       "      <th>item_preco</th>\n",
       "      <th>loja_ano_estabelecimento</th>\n",
       "    </tr>\n",
       "  </thead>\n",
       "  <tbody>\n",
       "    <tr>\n",
       "      <th>count</th>\n",
       "      <td>8.550000e+03</td>\n",
       "      <td>7081.000000</td>\n",
       "      <td>8550.000000</td>\n",
       "      <td>8550.000000</td>\n",
       "      <td>8550.000000</td>\n",
       "    </tr>\n",
       "    <tr>\n",
       "      <th>mean</th>\n",
       "      <td>2.181949e+05</td>\n",
       "      <td>12.855023</td>\n",
       "      <td>0.066150</td>\n",
       "      <td>141.007453</td>\n",
       "      <td>2007.830409</td>\n",
       "    </tr>\n",
       "    <tr>\n",
       "      <th>std</th>\n",
       "      <td>1.708098e+05</td>\n",
       "      <td>4.643508</td>\n",
       "      <td>0.051578</td>\n",
       "      <td>62.333062</td>\n",
       "      <td>8.372541</td>\n",
       "    </tr>\n",
       "    <tr>\n",
       "      <th>min</th>\n",
       "      <td>3.329000e+03</td>\n",
       "      <td>4.555000</td>\n",
       "      <td>0.000000</td>\n",
       "      <td>31.290000</td>\n",
       "      <td>1995.000000</td>\n",
       "    </tr>\n",
       "    <tr>\n",
       "      <th>25%</th>\n",
       "      <td>8.349132e+04</td>\n",
       "      <td>8.770000</td>\n",
       "      <td>0.027024</td>\n",
       "      <td>93.787500</td>\n",
       "      <td>1997.000000</td>\n",
       "    </tr>\n",
       "    <tr>\n",
       "      <th>50%</th>\n",
       "      <td>1.794331e+05</td>\n",
       "      <td>12.600000</td>\n",
       "      <td>0.053978</td>\n",
       "      <td>142.935000</td>\n",
       "      <td>2009.000000</td>\n",
       "    </tr>\n",
       "    <tr>\n",
       "      <th>75%</th>\n",
       "      <td>3.100963e+05</td>\n",
       "      <td>16.850000</td>\n",
       "      <td>0.094646</td>\n",
       "      <td>185.760000</td>\n",
       "      <td>2014.000000</td>\n",
       "    </tr>\n",
       "    <tr>\n",
       "      <th>max</th>\n",
       "      <td>1.308696e+06</td>\n",
       "      <td>21.350000</td>\n",
       "      <td>0.328391</td>\n",
       "      <td>266.890000</td>\n",
       "      <td>2019.000000</td>\n",
       "    </tr>\n",
       "  </tbody>\n",
       "</table>\n",
       "</div>"
      ],
      "text/plain": [
       "       vendas_totais    item_peso  item_visibilidade   item_preco  \\\n",
       "count   8.550000e+03  7081.000000        8550.000000  8550.000000   \n",
       "mean    2.181949e+05    12.855023           0.066150   141.007453   \n",
       "std     1.708098e+05     4.643508           0.051578    62.333062   \n",
       "min     3.329000e+03     4.555000           0.000000    31.290000   \n",
       "25%     8.349132e+04     8.770000           0.027024    93.787500   \n",
       "50%     1.794331e+05    12.600000           0.053978   142.935000   \n",
       "75%     3.100963e+05    16.850000           0.094646   185.760000   \n",
       "max     1.308696e+06    21.350000           0.328391   266.890000   \n",
       "\n",
       "       loja_ano_estabelecimento  \n",
       "count               8550.000000  \n",
       "mean                2007.830409  \n",
       "std                    8.372541  \n",
       "min                 1995.000000  \n",
       "25%                 1997.000000  \n",
       "50%                 2009.000000  \n",
       "75%                 2014.000000  \n",
       "max                 2019.000000  "
      ]
     },
     "execution_count": 49,
     "metadata": {},
     "output_type": "execute_result"
    }
   ],
   "source": [
    "# O .describe exibe estatísticas descritivas para colunas numéricas\n",
    "df.describe()"
   ]
  },
  {
   "cell_type": "code",
   "execution_count": 53,
   "metadata": {
    "id": "9ELlCNNTqhvJ"
   },
   "outputs": [
    {
     "data": {
      "text/plain": [
       "item_identificador          1559\n",
       "loja_identificador            10\n",
       "vendas_totais               3493\n",
       "item_peso                    415\n",
       "item_conteudo_gordura          5\n",
       "item_visibilidade           7880\n",
       "item_tipo                     16\n",
       "item_preco                  4839\n",
       "item_quantidade_venda          0\n",
       "loja_ano_estabelecimento       9\n",
       "loja_tamanho                   3\n",
       "loja_tipo_localizacao          3\n",
       "loja_tipo                      4\n",
       "dtype: int64"
      ]
     },
     "execution_count": 53,
     "metadata": {},
     "output_type": "execute_result"
    }
   ],
   "source": [
    "# .nunique retorna a quantidade de valores únicos em cada coluna\n",
    "df.nunique()"
   ]
  },
  {
   "cell_type": "code",
   "execution_count": 55,
   "metadata": {
    "id": "uhZzt4VXqhnp"
   },
   "outputs": [
    {
     "data": {
      "text/plain": [
       "27"
      ]
     },
     "execution_count": 55,
     "metadata": {},
     "output_type": "execute_result"
    }
   ],
   "source": [
    "# Verificar se existem linhas duplicadas (.sum() funciona para que a soma seja feita)\n",
    "df.duplicated().sum()"
   ]
  },
  {
   "cell_type": "code",
   "execution_count": 60,
   "metadata": {},
   "outputs": [
    {
     "data": {
      "text/plain": [
       "item_identificador             0\n",
       "loja_identificador             0\n",
       "vendas_totais                  0\n",
       "item_peso                   1469\n",
       "item_conteudo_gordura          0\n",
       "item_visibilidade              0\n",
       "item_tipo                      0\n",
       "item_preco                     0\n",
       "item_quantidade_venda       8550\n",
       "loja_ano_estabelecimento       0\n",
       "loja_tamanho                2417\n",
       "loja_tipo_localizacao          0\n",
       "loja_tipo                      0\n",
       "dtype: int64"
      ]
     },
     "execution_count": 60,
     "metadata": {},
     "output_type": "execute_result"
    }
   ],
   "source": [
    "# Verificar se existem valores ausentes\n",
    "df.isnull().sum()"
   ]
  },
  {
   "cell_type": "code",
   "execution_count": 62,
   "metadata": {},
   "outputs": [],
   "source": [
    "# NOTA: A coluna item_quantidade_venda apresenta todos valores ausentes. loja_tamanho e item_peso também apresentam valores expressivos de valores nulos."
   ]
  },
  {
   "cell_type": "markdown",
   "metadata": {},
   "source": [
    "#### Após as explorações dos dados e do que os mesmos representam, tivemos alguns insights sobre as informações que esses dados retornam. O primeiro insight interessante é sobre a coluna item_conteudo_gordura, que durante a consulta apresentou 5 valores únicos. Normalmente não temos tantos valores diferentes com relação a gordura, então utilizei .unique() para que esses valores fossem mostrados, e descobri que na verdade as informações se referem a apenas dois níveis de gordura: Baixo e regular, porém devido as nomeações diferentes das informações, é como se tivessem 5 valores diferentes nessa coluna."
   ]
  },
  {
   "cell_type": "code",
   "execution_count": 60,
   "metadata": {
    "id": "vbx16nzZqhgx"
   },
   "outputs": [
    {
     "data": {
      "text/plain": [
       "array(['Baixo Teor de Gordura', 'Regular', 'BTG', 'reg',\n",
       "       'baixo teor de gordura'], dtype=object)"
      ]
     },
     "execution_count": 60,
     "metadata": {},
     "output_type": "execute_result"
    }
   ],
   "source": [
    "df['item_conteudo_gordura'].unique()"
   ]
  },
  {
   "cell_type": "markdown",
   "metadata": {
    "id": "G_hAVoCRvPQr"
   },
   "source": [
    "# Passo 3 - Limpeza e tratamento"
   ]
  },
  {
   "cell_type": "markdown",
   "metadata": {
    "id": "7ufY_5AMkh2T"
   },
   "source": [
    "#### Durante a exploração dos dados notei 3 inconsistências principais que podem inteferir que as informações sejam 100% precisas:\n",
    "\n",
    "#### - Linhas duplicadas\n",
    "#### - Valores Nulos\n",
    "#### - Dados categóricos escritos de uma maneira não padronizadam."
   ]
  },
  {
   "cell_type": "markdown",
   "metadata": {
    "id": "cGZGWMtjqWYQ"
   },
   "source": [
    "#### No contexto do projeto, as informações são sobre itens específicos vendidos de maneira individual, portanto decidi excluir as linhas duplicadas para que os valores não interfiram nas informações gerais"
   ]
  },
  {
   "cell_type": "code",
   "execution_count": 77,
   "metadata": {},
   "outputs": [
    {
     "data": {
      "text/html": [
       "<div>\n",
       "<style scoped>\n",
       "    .dataframe tbody tr th:only-of-type {\n",
       "        vertical-align: middle;\n",
       "    }\n",
       "\n",
       "    .dataframe tbody tr th {\n",
       "        vertical-align: top;\n",
       "    }\n",
       "\n",
       "    .dataframe thead th {\n",
       "        text-align: right;\n",
       "    }\n",
       "</style>\n",
       "<table border=\"1\" class=\"dataframe\">\n",
       "  <thead>\n",
       "    <tr style=\"text-align: right;\">\n",
       "      <th></th>\n",
       "      <th>item_identificador</th>\n",
       "      <th>loja_identificador</th>\n",
       "      <th>vendas_totais</th>\n",
       "      <th>item_peso</th>\n",
       "      <th>item_conteudo_gordura</th>\n",
       "      <th>item_visibilidade</th>\n",
       "      <th>item_tipo</th>\n",
       "      <th>item_preco</th>\n",
       "      <th>item_quantidade_venda</th>\n",
       "      <th>loja_ano_estabelecimento</th>\n",
       "      <th>loja_tamanho</th>\n",
       "      <th>loja_tipo_localizacao</th>\n",
       "      <th>loja_tipo</th>\n",
       "    </tr>\n",
       "  </thead>\n",
       "  <tbody>\n",
       "    <tr>\n",
       "      <th>0</th>\n",
       "      <td>FDB08</td>\n",
       "      <td>OUT018</td>\n",
       "      <td>176503.58</td>\n",
       "      <td>6.055</td>\n",
       "      <td>Baixo Teor de Gordura</td>\n",
       "      <td>0.031230</td>\n",
       "      <td>Frutas e Vegetais</td>\n",
       "      <td>160.36</td>\n",
       "      <td>None</td>\n",
       "      <td>2019</td>\n",
       "      <td>Médio</td>\n",
       "      <td>Nível 3</td>\n",
       "      <td>Supermercado Tipo 2</td>\n",
       "    </tr>\n",
       "    <tr>\n",
       "      <th>1</th>\n",
       "      <td>DRQ35</td>\n",
       "      <td>OUT049</td>\n",
       "      <td>185758.20</td>\n",
       "      <td>9.300</td>\n",
       "      <td>Baixo Teor de Gordura</td>\n",
       "      <td>0.042357</td>\n",
       "      <td>Bebidas Alcoólicas</td>\n",
       "      <td>123.24</td>\n",
       "      <td>None</td>\n",
       "      <td>2009</td>\n",
       "      <td>Médio</td>\n",
       "      <td>Nível 1</td>\n",
       "      <td>Supermercado Tipo 1</td>\n",
       "    </tr>\n",
       "    <tr>\n",
       "      <th>2</th>\n",
       "      <td>FDD14</td>\n",
       "      <td>OUT018</td>\n",
       "      <td>165983.94</td>\n",
       "      <td>20.700</td>\n",
       "      <td>Baixo Teor de Gordura</td>\n",
       "      <td>0.170500</td>\n",
       "      <td>Enlatados</td>\n",
       "      <td>184.13</td>\n",
       "      <td>None</td>\n",
       "      <td>2019</td>\n",
       "      <td>Médio</td>\n",
       "      <td>Nível 3</td>\n",
       "      <td>Supermercado Tipo 2</td>\n",
       "    </tr>\n",
       "    <tr>\n",
       "      <th>3</th>\n",
       "      <td>FDY37</td>\n",
       "      <td>OUT045</td>\n",
       "      <td>314923.40</td>\n",
       "      <td>17.000</td>\n",
       "      <td>Regular</td>\n",
       "      <td>0.026623</td>\n",
       "      <td>Enlatados</td>\n",
       "      <td>144.25</td>\n",
       "      <td>None</td>\n",
       "      <td>2012</td>\n",
       "      <td>None</td>\n",
       "      <td>Nível 2</td>\n",
       "      <td>Supermercado Tipo 1</td>\n",
       "    </tr>\n",
       "    <tr>\n",
       "      <th>4</th>\n",
       "      <td>FDY59</td>\n",
       "      <td>OUT018</td>\n",
       "      <td>64782.34</td>\n",
       "      <td>8.195</td>\n",
       "      <td>Baixo Teor de Gordura</td>\n",
       "      <td>0.000000</td>\n",
       "      <td>Confeitaria</td>\n",
       "      <td>93.15</td>\n",
       "      <td>None</td>\n",
       "      <td>2019</td>\n",
       "      <td>Médio</td>\n",
       "      <td>Nível 3</td>\n",
       "      <td>Supermercado Tipo 2</td>\n",
       "    </tr>\n",
       "    <tr>\n",
       "      <th>...</th>\n",
       "      <td>...</td>\n",
       "      <td>...</td>\n",
       "      <td>...</td>\n",
       "      <td>...</td>\n",
       "      <td>...</td>\n",
       "      <td>...</td>\n",
       "      <td>...</td>\n",
       "      <td>...</td>\n",
       "      <td>...</td>\n",
       "      <td>...</td>\n",
       "      <td>...</td>\n",
       "      <td>...</td>\n",
       "      <td>...</td>\n",
       "    </tr>\n",
       "    <tr>\n",
       "      <th>8545</th>\n",
       "      <td>FDY08</td>\n",
       "      <td>OUT010</td>\n",
       "      <td>28096.76</td>\n",
       "      <td>9.395</td>\n",
       "      <td>Regular</td>\n",
       "      <td>0.286345</td>\n",
       "      <td>Frutas e Vegetais</td>\n",
       "      <td>139.18</td>\n",
       "      <td>None</td>\n",
       "      <td>2008</td>\n",
       "      <td>None</td>\n",
       "      <td>Nível 3</td>\n",
       "      <td>Mercado</td>\n",
       "    </tr>\n",
       "    <tr>\n",
       "      <th>8546</th>\n",
       "      <td>FDC41</td>\n",
       "      <td>OUT017</td>\n",
       "      <td>130163.90</td>\n",
       "      <td>15.600</td>\n",
       "      <td>Baixo Teor de Gordura</td>\n",
       "      <td>0.117575</td>\n",
       "      <td>Alimentos Congelados</td>\n",
       "      <td>75.67</td>\n",
       "      <td>None</td>\n",
       "      <td>2017</td>\n",
       "      <td>None</td>\n",
       "      <td>Nível 2</td>\n",
       "      <td>Supermercado Tipo 1</td>\n",
       "    </tr>\n",
       "    <tr>\n",
       "      <th>8547</th>\n",
       "      <td>NCQ53</td>\n",
       "      <td>OUT045</td>\n",
       "      <td>614533.40</td>\n",
       "      <td>17.600</td>\n",
       "      <td>Baixo Teor de Gordura</td>\n",
       "      <td>0.018944</td>\n",
       "      <td>Mercearia</td>\n",
       "      <td>237.36</td>\n",
       "      <td>None</td>\n",
       "      <td>2012</td>\n",
       "      <td>None</td>\n",
       "      <td>Nível 2</td>\n",
       "      <td>Supermercado Tipo 1</td>\n",
       "    </tr>\n",
       "    <tr>\n",
       "      <th>8548</th>\n",
       "      <td>FDL46</td>\n",
       "      <td>OUT017</td>\n",
       "      <td>164985.24</td>\n",
       "      <td>20.350</td>\n",
       "      <td>baixo teor de gordura</td>\n",
       "      <td>0.054363</td>\n",
       "      <td>Lanches</td>\n",
       "      <td>117.95</td>\n",
       "      <td>None</td>\n",
       "      <td>2017</td>\n",
       "      <td>None</td>\n",
       "      <td>Nível 2</td>\n",
       "      <td>Supermercado Tipo 1</td>\n",
       "    </tr>\n",
       "    <tr>\n",
       "      <th>8549</th>\n",
       "      <td>NCN30</td>\n",
       "      <td>OUT046</td>\n",
       "      <td>96541.00</td>\n",
       "      <td>16.350</td>\n",
       "      <td>BTG</td>\n",
       "      <td>0.016993</td>\n",
       "      <td>Cereais</td>\n",
       "      <td>95.74</td>\n",
       "      <td>None</td>\n",
       "      <td>2007</td>\n",
       "      <td>Pequeno</td>\n",
       "      <td>Nível 1</td>\n",
       "      <td>Supermercado Tipo 1</td>\n",
       "    </tr>\n",
       "  </tbody>\n",
       "</table>\n",
       "<p>8523 rows × 13 columns</p>\n",
       "</div>"
      ],
      "text/plain": [
       "     item_identificador loja_identificador  vendas_totais  item_peso  \\\n",
       "0                 FDB08             OUT018      176503.58      6.055   \n",
       "1                 DRQ35             OUT049      185758.20      9.300   \n",
       "2                 FDD14             OUT018      165983.94     20.700   \n",
       "3                 FDY37             OUT045      314923.40     17.000   \n",
       "4                 FDY59             OUT018       64782.34      8.195   \n",
       "...                 ...                ...            ...        ...   \n",
       "8545              FDY08             OUT010       28096.76      9.395   \n",
       "8546              FDC41             OUT017      130163.90     15.600   \n",
       "8547              NCQ53             OUT045      614533.40     17.600   \n",
       "8548              FDL46             OUT017      164985.24     20.350   \n",
       "8549              NCN30             OUT046       96541.00     16.350   \n",
       "\n",
       "      item_conteudo_gordura  item_visibilidade             item_tipo  \\\n",
       "0     Baixo Teor de Gordura           0.031230     Frutas e Vegetais   \n",
       "1     Baixo Teor de Gordura           0.042357    Bebidas Alcoólicas   \n",
       "2     Baixo Teor de Gordura           0.170500             Enlatados   \n",
       "3                   Regular           0.026623             Enlatados   \n",
       "4     Baixo Teor de Gordura           0.000000           Confeitaria   \n",
       "...                     ...                ...                   ...   \n",
       "8545                Regular           0.286345     Frutas e Vegetais   \n",
       "8546  Baixo Teor de Gordura           0.117575  Alimentos Congelados   \n",
       "8547  Baixo Teor de Gordura           0.018944             Mercearia   \n",
       "8548  baixo teor de gordura           0.054363               Lanches   \n",
       "8549                    BTG           0.016993               Cereais   \n",
       "\n",
       "      item_preco item_quantidade_venda  loja_ano_estabelecimento loja_tamanho  \\\n",
       "0         160.36                  None                      2019        Médio   \n",
       "1         123.24                  None                      2009        Médio   \n",
       "2         184.13                  None                      2019        Médio   \n",
       "3         144.25                  None                      2012         None   \n",
       "4          93.15                  None                      2019        Médio   \n",
       "...          ...                   ...                       ...          ...   \n",
       "8545      139.18                  None                      2008         None   \n",
       "8546       75.67                  None                      2017         None   \n",
       "8547      237.36                  None                      2012         None   \n",
       "8548      117.95                  None                      2017         None   \n",
       "8549       95.74                  None                      2007      Pequeno   \n",
       "\n",
       "     loja_tipo_localizacao            loja_tipo  \n",
       "0                  Nível 3  Supermercado Tipo 2  \n",
       "1                  Nível 1  Supermercado Tipo 1  \n",
       "2                  Nível 3  Supermercado Tipo 2  \n",
       "3                  Nível 2  Supermercado Tipo 1  \n",
       "4                  Nível 3  Supermercado Tipo 2  \n",
       "...                    ...                  ...  \n",
       "8545               Nível 3              Mercado  \n",
       "8546               Nível 2  Supermercado Tipo 1  \n",
       "8547               Nível 2  Supermercado Tipo 1  \n",
       "8548               Nível 2  Supermercado Tipo 1  \n",
       "8549               Nível 1  Supermercado Tipo 1  \n",
       "\n",
       "[8523 rows x 13 columns]"
      ]
     },
     "execution_count": 77,
     "metadata": {},
     "output_type": "execute_result"
    }
   ],
   "source": [
    "df = df.drop_duplicates()\n",
    "df"
   ]
  },
  {
   "cell_type": "code",
   "execution_count": 81,
   "metadata": {},
   "outputs": [],
   "source": [
    "# O número de rows caiu, portanto já temos a confirmação que as linhas duplicadas foram excluídas corretamente."
   ]
  },
  {
   "cell_type": "markdown",
   "metadata": {
    "id": "I6Hy7Ytastru"
   },
   "source": [
    "#### Prosseguindo, temos 3 colunas que apresentam valores nulos. Comecei pela mais fácil: item_quantidade_venda, que é uma coluna que possui TODOS os valores nulos, portnato não teremos nenhum insight extraído da mesma, dessa maneira decidi excluir a colna para evitar distorção nas análises"
   ]
  },
  {
   "cell_type": "code",
   "execution_count": 86,
   "metadata": {
    "id": "leAfcy8hqTip"
   },
   "outputs": [],
   "source": [
    "df = df.drop(columns=['item_quantidade_venda'])"
   ]
  },
  {
   "cell_type": "markdown",
   "metadata": {
    "id": "VLsPoyLUqTb_"
   },
   "source": [
    "#### A próxima coluna que possui valores nulos é item_peso. Nesse caso não irei excluir, pois possui informações importantes, irei adicionar o valor da média nos valores nulos para que as informaçãoes não sejam tão distorcidas. Para isso utilizei o método .fillna."
   ]
  },
  {
   "cell_type": "code",
   "execution_count": 90,
   "metadata": {
    "id": "r382rlQJqTTP"
   },
   "outputs": [
    {
     "name": "stderr",
     "output_type": "stream",
     "text": [
      "C:\\Users\\User\\AppData\\Local\\Temp\\ipykernel_11900\\3038743284.py:1: FutureWarning: A value is trying to be set on a copy of a DataFrame or Series through chained assignment using an inplace method.\n",
      "The behavior will change in pandas 3.0. This inplace method will never work because the intermediate object on which we are setting values always behaves as a copy.\n",
      "\n",
      "For example, when doing 'df[col].method(value, inplace=True)', try using 'df.method({col: value}, inplace=True)' or df[col] = df[col].method(value) instead, to perform the operation inplace on the original object.\n",
      "\n",
      "\n",
      "  df['item_peso'].fillna(df['item_peso'].mean(), inplace=True)\n"
     ]
    }
   ],
   "source": [
    "df['item_peso'].fillna(df['item_peso'].mean(), inplace=True)\n",
    "# inplace = True serve para que as informações sejam salvas diretamente no DataFrame raíz.\n",
    "# NOTA: Essa mensagem abaixo aparece apenas como um aviso que o método inplace não será suportado a partir do pandas 3.0. o código alternativo seria atribuir um novo valor dessa maneira df['item_peso']=df['item_peso'].fillna(df['item_peso'].mean(), inplace=True)"
   ]
  },
  {
   "cell_type": "markdown",
   "metadata": {
    "id": "blpHqYcZqTL1"
   },
   "source": [
    "#### E por fim, a coluna de tamanho de loja também possui informações importantes, então decidi criar uma quarta categoria chamada \"Desconhecido\". Utilizei o método fillna. "
   ]
  },
  {
   "cell_type": "code",
   "execution_count": 99,
   "metadata": {},
   "outputs": [
    {
     "name": "stderr",
     "output_type": "stream",
     "text": [
      "C:\\Users\\User\\AppData\\Local\\Temp\\ipykernel_11900\\1922140976.py:1: FutureWarning: A value is trying to be set on a copy of a DataFrame or Series through chained assignment using an inplace method.\n",
      "The behavior will change in pandas 3.0. This inplace method will never work because the intermediate object on which we are setting values always behaves as a copy.\n",
      "\n",
      "For example, when doing 'df[col].method(value, inplace=True)', try using 'df.method({col: value}, inplace=True)' or df[col] = df[col].method(value) instead, to perform the operation inplace on the original object.\n",
      "\n",
      "\n",
      "  df['loja_tamanho'].fillna('Desconhecido', inplace=True)\n"
     ]
    }
   ],
   "source": [
    "df['loja_tamanho'].fillna('Desconhecido', inplace=True)"
   ]
  },
  {
   "cell_type": "code",
   "execution_count": 103,
   "metadata": {},
   "outputs": [],
   "source": [
    "# NOTA: Essa mensagem abaixo aparece apenas como um aviso que o método inplace não será suportado a partir do pandas 3.0. o código alternativo seria atribuir um novo valor dessa maneira df['loja_tamanho']=df['loja_tamanho'].fillna('Desconhecido', inplace=True)"
   ]
  },
  {
   "cell_type": "code",
   "execution_count": 101,
   "metadata": {},
   "outputs": [
    {
     "data": {
      "text/plain": [
       "item_identificador          0\n",
       "loja_identificador          0\n",
       "vendas_totais               0\n",
       "item_peso                   0\n",
       "item_conteudo_gordura       0\n",
       "item_visibilidade           0\n",
       "item_tipo                   0\n",
       "item_preco                  0\n",
       "loja_ano_estabelecimento    0\n",
       "loja_tamanho                0\n",
       "loja_tipo_localizacao       0\n",
       "loja_tipo                   0\n",
       "dtype: int64"
      ]
     },
     "execution_count": 101,
     "metadata": {},
     "output_type": "execute_result"
    }
   ],
   "source": [
    "# Verificação dos valores após a limpeza e tratamento dos dados\n",
    "\n",
    "df.isnull().sum()"
   ]
  },
  {
   "cell_type": "markdown",
   "metadata": {
    "id": "9AkMkZZh7iTm"
   },
   "source": [
    "#### A última etapa de limpeza e tratamento dos dados é padronizar os dados categóricos na  coluna que informa os teores de gordura. Para realizar esse processo irei utilizar o método .replace()"
   ]
  },
  {
   "cell_type": "code",
   "execution_count": 109,
   "metadata": {
    "id": "LNBMAXCbqRBV"
   },
   "outputs": [
    {
     "data": {
      "text/plain": [
       "array(['Baixo Teor de Gordura', 'Regular'], dtype=object)"
      ]
     },
     "execution_count": 109,
     "metadata": {},
     "output_type": "execute_result"
    }
   ],
   "source": [
    "# Realizando o mapeamento em formato de dicionário para que os valores sejam padronizados\n",
    "mapeamento = {\n",
    "    'Baixo Teor de Gordura': 'Baixo Teor de Gordura',\n",
    "    'BTG': 'Baixo Teor de Gordura',\n",
    "    'baixo teor de gordura': 'Baixo Teor de Gordura',\n",
    "    'Regular': 'Regular',\n",
    "    'reg': 'Regular'\n",
    "}\n",
    "\n",
    "# Substituindo os valores com método .replace()\n",
    "df['item_conteudo_gordura'] = df['item_conteudo_gordura'].replace(mapeamento)\n",
    "\n",
    "# Verificando se existem apenas duas categorias como esperávamos\n",
    "df['item_conteudo_gordura'].unique() \n"
   ]
  },
  {
   "cell_type": "markdown",
   "metadata": {
    "id": "rQz1ZnoU7os1"
   },
   "source": [
    "# Passo 4 - Visualização dos dados"
   ]
  },
  {
   "cell_type": "markdown",
   "metadata": {
    "id": "VFVsWaue7x5S"
   },
   "source": [
    "#### Após a limpeza e o tratamento dos dados irei realizar o download do arquivo em formato CSV para poder utilizar o POWER BI para visualização dos dados."
   ]
  },
  {
   "cell_type": "code",
   "execution_count": 116,
   "metadata": {},
   "outputs": [],
   "source": [
    "df.to_csv('data_analysis_zoop.csv', index=False)"
   ]
  }
 ],
 "metadata": {
  "colab": {
   "provenance": []
  },
  "kernelspec": {
   "display_name": "Python 3 (ipykernel)",
   "language": "python",
   "name": "python3"
  },
  "language_info": {
   "codemirror_mode": {
    "name": "ipython",
    "version": 3
   },
   "file_extension": ".py",
   "mimetype": "text/x-python",
   "name": "python",
   "nbconvert_exporter": "python",
   "pygments_lexer": "ipython3",
   "version": "3.12.4"
  }
 },
 "nbformat": 4,
 "nbformat_minor": 4
}
